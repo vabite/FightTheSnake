{
 "cells": [
  {
   "cell_type": "markdown",
   "metadata": {},
   "source": [
    "#While Loops"
   ]
  },
  {
   "cell_type": "code",
   "execution_count": 1,
   "metadata": {
    "collapsed": true
   },
   "outputs": [],
   "source": [
    "numbers = []"
   ]
  },
  {
   "cell_type": "markdown",
   "metadata": {},
   "source": [
    "##Definizione funzioni"
   ]
  },
  {
   "cell_type": "markdown",
   "metadata": {},
   "source": [
    "Definisce una funzione while_loop che prende il numero di iterazioni da effettuare"
   ]
  },
  {
   "cell_type": "code",
   "execution_count": 58,
   "metadata": {
    "collapsed": true
   },
   "outputs": [],
   "source": [
    "def checks(iterations, step):\n",
    "#il numero di iterazioni dev'essere >= 0\n",
    "    if iterations <= 0: \n",
    "        print \"The number of iterations given is zero or negative. Impossible to end the cicle. Cicle aborted.\"\n",
    "#lo step dev'essere diverso da 0  \n",
    "    elif step == 0:\n",
    "        print \"The step given is zero. Impossible to end the cicle. Cicle aborted.\"\n",
    "    else:\n",
    "        return True\n",
    "    return False"
   ]
  },
  {
   "cell_type": "code",
   "execution_count": 71,
   "metadata": {
    "collapsed": false,
    "scrolled": true
   },
   "outputs": [],
   "source": [
    "def while_loop(iterations, step):\n",
    "    numbers = []\n",
    "    #se i controlli su iterazioni e step danno esito positivo, allora inizializza a zero il contatore del ciclo...\n",
    "    if checks(iterations, step): i = 0 \n",
    "#...viceversa, inizializza il valore del contatore in modo da uscire immediatamente dal ciclo       \n",
    "    else: i = iterations\n",
    "    while i < iterations:\n",
    "        print \"At the top the value to insert is %d\" % (i*step)\n",
    "#appende alla lista un elemento contenente il valore corrente del contatore del ciclo\n",
    "        numbers.append(i*step) \n",
    "        i += 1   \n",
    "        print \"Numbers now: \", numbers\n",
    "        print \"At the bottom the value to be inserted is %d\" % (i*step)\n",
    "        print\n",
    "    return numbers"
   ]
  },
  {
   "cell_type": "code",
   "execution_count": 156,
   "metadata": {
    "collapsed": true
   },
   "outputs": [],
   "source": [
    "def for_loop(iterations, step):\n",
    "    numbers = []\n",
    "    allright = checks(iterations, step)\n",
    "    for i in range(iterations):\n",
    "        if not allright: break\n",
    "        print \"At the top the value to insert is %d\" % (i*step)\n",
    "#appende alla lista un elemento contenente il valore corrente del contatore del ciclo\n",
    "        numbers.append(i*step) \n",
    "        print \"Numbers now: \", numbers         \n",
    "        print \"At the bottom the value to be inserted is %d\" % (i*step)\n",
    "        print\n",
    "    return numbers"
   ]
  },
  {
   "cell_type": "code",
   "execution_count": null,
   "metadata": {
    "collapsed": true
   },
   "outputs": [],
   "source": []
  },
  {
   "cell_type": "markdown",
   "metadata": {},
   "source": [
    "##Istruzioni"
   ]
  },
  {
   "cell_type": "code",
   "execution_count": 157,
   "metadata": {
    "collapsed": false
   },
   "outputs": [
    {
     "name": "stdout",
     "output_type": "stream",
     "text": [
      "At the top the value to insert is 0\n",
      "Numbers now:  [0]\n",
      "At the bottom the value to be inserted is 10\n",
      "\n",
      "At the top the value to insert is 10\n",
      "Numbers now:  [0, 10]\n",
      "At the bottom the value to be inserted is 20\n",
      "\n"
     ]
    },
    {
     "data": {
      "text/plain": [
       "[0, 10]"
      ]
     },
     "execution_count": 157,
     "metadata": {},
     "output_type": "execute_result"
    }
   ],
   "source": [
    "while_loop(2, 10)"
   ]
  },
  {
   "cell_type": "code",
   "execution_count": 158,
   "metadata": {
    "collapsed": false
   },
   "outputs": [
    {
     "name": "stdout",
     "output_type": "stream",
     "text": [
      "At the top the value to insert is 0\n",
      "Numbers now:  [0]\n",
      "At the bottom the value to be inserted is -20\n",
      "\n",
      "At the top the value to insert is -20\n",
      "Numbers now:  [0, -20]\n",
      "At the bottom the value to be inserted is -40\n",
      "\n",
      "At the top the value to insert is -40\n",
      "Numbers now:  [0, -20, -40]\n",
      "At the bottom the value to be inserted is -60\n",
      "\n",
      "At the top the value to insert is -60\n",
      "Numbers now:  [0, -20, -40, -60]\n",
      "At the bottom the value to be inserted is -80\n",
      "\n",
      "At the top the value to insert is -80\n",
      "Numbers now:  [0, -20, -40, -60, -80]\n",
      "At the bottom the value to be inserted is -100\n",
      "\n"
     ]
    },
    {
     "data": {
      "text/plain": [
       "[0, -20, -40, -60, -80]"
      ]
     },
     "execution_count": 158,
     "metadata": {},
     "output_type": "execute_result"
    }
   ],
   "source": [
    "while_loop(5, -20)"
   ]
  },
  {
   "cell_type": "code",
   "execution_count": 159,
   "metadata": {
    "collapsed": false
   },
   "outputs": [
    {
     "name": "stdout",
     "output_type": "stream",
     "text": [
      "The number of iterations given is zero or negative. Impossible to end the cicle. Cicle aborted.\n"
     ]
    },
    {
     "data": {
      "text/plain": [
       "[]"
      ]
     },
     "execution_count": 159,
     "metadata": {},
     "output_type": "execute_result"
    }
   ],
   "source": [
    "while_loop(0, 10)"
   ]
  },
  {
   "cell_type": "code",
   "execution_count": 160,
   "metadata": {
    "collapsed": false
   },
   "outputs": [
    {
     "name": "stdout",
     "output_type": "stream",
     "text": [
      "The number of iterations given is zero or negative. Impossible to end the cicle. Cicle aborted.\n"
     ]
    },
    {
     "data": {
      "text/plain": [
       "[]"
      ]
     },
     "execution_count": 160,
     "metadata": {},
     "output_type": "execute_result"
    }
   ],
   "source": [
    "while_loop(-5, 10)"
   ]
  },
  {
   "cell_type": "code",
   "execution_count": 161,
   "metadata": {
    "collapsed": false
   },
   "outputs": [
    {
     "name": "stdout",
     "output_type": "stream",
     "text": [
      "The step given is zero. Impossible to end the cicle. Cicle aborted.\n"
     ]
    },
    {
     "data": {
      "text/plain": [
       "[]"
      ]
     },
     "execution_count": 161,
     "metadata": {},
     "output_type": "execute_result"
    }
   ],
   "source": [
    "while_loop(5, 0)"
   ]
  },
  {
   "cell_type": "code",
   "execution_count": null,
   "metadata": {
    "collapsed": false
   },
   "outputs": [],
   "source": []
  },
  {
   "cell_type": "code",
   "execution_count": 162,
   "metadata": {
    "collapsed": false
   },
   "outputs": [
    {
     "name": "stdout",
     "output_type": "stream",
     "text": [
      "At the top the value to insert is 0\n",
      "Numbers now:  [0]\n",
      "At the bottom the value to be inserted is 0\n",
      "\n",
      "At the top the value to insert is 10\n",
      "Numbers now:  [0, 10]\n",
      "At the bottom the value to be inserted is 10\n",
      "\n"
     ]
    },
    {
     "data": {
      "text/plain": [
       "[0, 10]"
      ]
     },
     "execution_count": 162,
     "metadata": {},
     "output_type": "execute_result"
    }
   ],
   "source": [
    "for_loop(2, 10)"
   ]
  },
  {
   "cell_type": "code",
   "execution_count": 163,
   "metadata": {
    "collapsed": false
   },
   "outputs": [
    {
     "name": "stdout",
     "output_type": "stream",
     "text": [
      "At the top the value to insert is 0\n",
      "Numbers now:  [0]\n",
      "At the bottom the value to be inserted is 0\n",
      "\n",
      "At the top the value to insert is -20\n",
      "Numbers now:  [0, -20]\n",
      "At the bottom the value to be inserted is -20\n",
      "\n",
      "At the top the value to insert is -40\n",
      "Numbers now:  [0, -20, -40]\n",
      "At the bottom the value to be inserted is -40\n",
      "\n",
      "At the top the value to insert is -60\n",
      "Numbers now:  [0, -20, -40, -60]\n",
      "At the bottom the value to be inserted is -60\n",
      "\n",
      "At the top the value to insert is -80\n",
      "Numbers now:  [0, -20, -40, -60, -80]\n",
      "At the bottom the value to be inserted is -80\n",
      "\n"
     ]
    },
    {
     "data": {
      "text/plain": [
       "[0, -20, -40, -60, -80]"
      ]
     },
     "execution_count": 163,
     "metadata": {},
     "output_type": "execute_result"
    }
   ],
   "source": [
    "for_loop(5, -20)"
   ]
  },
  {
   "cell_type": "code",
   "execution_count": 164,
   "metadata": {
    "collapsed": false
   },
   "outputs": [
    {
     "name": "stdout",
     "output_type": "stream",
     "text": [
      "The number of iterations given is zero or negative. Impossible to end the cicle. Cicle aborted.\n"
     ]
    },
    {
     "data": {
      "text/plain": [
       "[]"
      ]
     },
     "execution_count": 164,
     "metadata": {},
     "output_type": "execute_result"
    }
   ],
   "source": [
    "for_loop(0, 10)"
   ]
  },
  {
   "cell_type": "code",
   "execution_count": 165,
   "metadata": {
    "collapsed": false
   },
   "outputs": [
    {
     "name": "stdout",
     "output_type": "stream",
     "text": [
      "The number of iterations given is zero or negative. Impossible to end the cicle. Cicle aborted.\n"
     ]
    },
    {
     "data": {
      "text/plain": [
       "[]"
      ]
     },
     "execution_count": 165,
     "metadata": {},
     "output_type": "execute_result"
    }
   ],
   "source": [
    "for_loop(-5, 10)"
   ]
  },
  {
   "cell_type": "code",
   "execution_count": 166,
   "metadata": {
    "collapsed": false
   },
   "outputs": [
    {
     "name": "stdout",
     "output_type": "stream",
     "text": [
      "The step given is zero. Impossible to end the cicle. Cicle aborted.\n"
     ]
    },
    {
     "data": {
      "text/plain": [
       "[]"
      ]
     },
     "execution_count": 166,
     "metadata": {},
     "output_type": "execute_result"
    }
   ],
   "source": [
    "for_loop(5, 0)"
   ]
  }
 ],
 "metadata": {
  "kernelspec": {
   "display_name": "Python 2",
   "language": "python",
   "name": "python2"
  },
  "language_info": {
   "codemirror_mode": {
    "name": "ipython",
    "version": 2
   },
   "file_extension": ".py",
   "mimetype": "text/x-python",
   "name": "python",
   "nbconvert_exporter": "python",
   "pygments_lexer": "ipython2",
   "version": "2.7.10"
  }
 },
 "nbformat": 4,
 "nbformat_minor": 0
}
