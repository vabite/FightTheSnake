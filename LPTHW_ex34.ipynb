{
 "cells": [
  {
   "cell_type": "code",
   "execution_count": 1,
   "metadata": {
    "collapsed": true
   },
   "outputs": [],
   "source": [
    "from sys import exit"
   ]
  },
  {
   "cell_type": "code",
   "execution_count": 9,
   "metadata": {
    "collapsed": false
   },
   "outputs": [],
   "source": [
    "def start():\n",
    "    print \"You are in a dark room.\"\n",
    "    print \"There is a door to your right and left\"\n",
    "    print \"Which one do you take?\"\n",
    "    \n",
    "    choice = raw_input(\"> \")\n",
    "    \n",
    "    if choice == \"left\":\n",
    "        bear_room()\n",
    "    elif choice == \"right\":\n",
    "        cthulhu_room()\n",
    "    else:\n",
    "        dead(\"You stumble around the room until you starve.\")"
   ]
  },
  {
   "cell_type": "code",
   "execution_count": 13,
   "metadata": {
    "collapsed": false
   },
   "outputs": [],
   "source": [
    "def dead(why):\n",
    "    print why, \"Good job!\"\n",
    "    exit(0) \n",
    "    #esce dal programma passando un numero che indica assenza di errori\n",
    "    #suppongo sia necessario per uscire dal while presente in bear_room"
   ]
  },
  {
   "cell_type": "code",
   "execution_count": 7,
   "metadata": {
    "collapsed": true
   },
   "outputs": [],
   "source": [
    "def cthulhu_room():\n",
    "    print \"Here you see the great evil Cthulhu.\"\n",
    "    print \"He, it, whatever stares at you and you go insane.\"\n",
    "    print \"Do you flee for your life or eat your head?\"\n",
    "    \n",
    "    choice = raw_input(\"> \")\n",
    "    \n",
    "    if \"flee\" in choice:\n",
    "        start()\n",
    "    elif \"head\" in choice:\n",
    "        dead(\"Well that was tasty!\")\n",
    "    else:\n",
    "        chtulhu_room()"
   ]
  },
  {
   "cell_type": "code",
   "execution_count": 6,
   "metadata": {
    "collapsed": true
   },
   "outputs": [],
   "source": [
    "def bear_room():\n",
    "    print \"There is a bear here.\"\n",
    "    print \"The bear has a bunch of honey.\"\n",
    "    print \"The fat bear is in front of another door.\"\n",
    "    print \"How are you going to move the bear?\"\n",
    "    bear_moved = False\n",
    "    \n",
    "    while True:\n",
    "        choice = raw_input(\"> \")\n",
    "        \n",
    "        if choice == \"Take honey\":\n",
    "            dead(\"The bear looks at you then slaps your face off\")\n",
    "        elif choice == \"taunt bear\" and not bear_moved:\n",
    "            print \"The bear has moved from the door. You can go through it now.\"\n",
    "            bear_moved=True\n",
    "        elif choice == \"taunt bear\" and bear_moved:\n",
    "            dead(\"The bear get pissed off and chews your legs off.\")\n",
    "        elif choice == \"open door\" and bear_moved:\n",
    "            gold_room()\n",
    "        else:\n",
    "            print \"I got no idea what that means\""
   ]
  },
  {
   "cell_type": "code",
   "execution_count": null,
   "metadata": {
    "collapsed": false
   },
   "outputs": [],
   "source": [
    "def gold_room():\n",
    "    print \"Thid room is full of gold. How much do you take?\"\n",
    "    \n",
    "    choice = raw_input(\"> \")\n",
    "    if not (\"0\" in choice or \"1\" in choice):\n",
    "        dead(\"Man, learn to type a number.\")\n",
    "    \n",
    "    if int(choice) < 50:\n",
    "        print \"Nice, you're not greedy, you win!\"\n",
    "    else:\n",
    "        dead(\"You greedy bastard!\")"
   ]
  },
  {
   "cell_type": "code",
   "execution_count": null,
   "metadata": {
    "collapsed": false
   },
   "outputs": [
    {
     "name": "stdout",
     "output_type": "stream",
     "text": [
      "You are in a dark room.\n",
      "There is a door to your right and left\n",
      "Which one do you take?\n"
     ]
    }
   ],
   "source": [
    "start()"
   ]
  },
  {
   "cell_type": "code",
   "execution_count": null,
   "metadata": {
    "collapsed": true
   },
   "outputs": [],
   "source": []
  }
 ],
 "metadata": {
  "kernelspec": {
   "display_name": "Python 2",
   "language": "python",
   "name": "python2"
  },
  "language_info": {
   "codemirror_mode": {
    "name": "ipython",
    "version": 2
   },
   "file_extension": ".py",
   "mimetype": "text/x-python",
   "name": "python",
   "nbconvert_exporter": "python",
   "pygments_lexer": "ipython2",
   "version": "2.7.10"
  }
 },
 "nbformat": 4,
 "nbformat_minor": 0
}
