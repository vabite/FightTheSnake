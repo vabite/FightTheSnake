{
 "cells": [
  {
   "cell_type": "markdown",
   "metadata": {},
   "source": [
    "# Adventure"
   ]
  },
  {
   "cell_type": "code",
   "execution_count": 8,
   "metadata": {
    "collapsed": false
   },
   "outputs": [
    {
     "name": "stdout",
     "output_type": "stream",
     "text": [
      "Come ti chiami, avventuriero? Vale\n"
     ]
    }
   ],
   "source": [
    "name = raw_input(\"Come ti chiami, avventuriero? \")"
   ]
  },
  {
   "cell_type": "code",
   "execution_count": 9,
   "metadata": {
    "collapsed": false
   },
   "outputs": [
    {
     "name": "stdout",
     "output_type": "stream",
     "text": [
      "Ciao Vale. Ora inizia la tua avventura\n"
     ]
    }
   ],
   "source": [
    "print \"Ciao %s. Ora inizia la tua avventura\" % name"
   ]
  },
  {
   "cell_type": "code",
   "execution_count": 10,
   "metadata": {
    "collapsed": false
   },
   "outputs": [
    {
     "name": "stdout",
     "output_type": "stream",
     "text": [
      "Sei in un corridoio lungo e buio. Hai tre porte davanti a te. Entri nella 1, nella 2 o nella 3?3\n"
     ]
    }
   ],
   "source": [
    "bivio1 = raw_input(\"Sei in un corridoio lungo e buio. Hai tre porte davanti a te. Entri nella 1, nella 2 o nella 3?\")"
   ]
  },
  {
   "cell_type": "markdown",
   "metadata": {},
   "source": [
    "##Bivio 1"
   ]
  },
  {
   "cell_type": "code",
   "execution_count": null,
   "metadata": {
    "collapsed": true
   },
   "outputs": [],
   "source": [
    "if bivio1 == \"1\":\n",
    "    bivio2 = raw_input(\n",
    "        \"\"\"\n",
    "        Trovi Edoardo Vacchi, con un biglietto per la California fresco fresco. Cosa fai? \\n\n",
    "            1. Provo a rubarglielo di mano.\\n\n",
    "            2. Gli dico che ora i prezzi dello stessa tratta si sono dimezzati.\\n\n",
    "            3. \"Californiaaa, Californiaaaaaaa, here we coooooooome!\".\\n\n",
    "            \n",
    "        \"\"\")\n",
    "elif bivio1== \"2\":\n",
    "    bivio2 = raw_input(\n",
    "        '''\n",
    "        Trovi Stefano Pascolutti, che maneggia un cubo di Rubrik in modo molto ambiguo. cosa fai?   \\n    \n",
    "            1. Gli consiglio di passare al livello successivo e aggiungere la 4a dimensione al suo gioco.\\n\n",
    "            2. Gli consiglio di risolvere il cubo in maniera algoritmica.\\n\n",
    "            3. \"Ma la PlayStation no?\"\\n\n",
    "        ''' )\n",
    "else:\n",
    "    bivio2 = raw_input(\n",
    "        '''\n",
    "        Trovi Fabio che mangia i muffin della Milka. Cosa fai?\\n\n",
    "            1. Gli dici che la glassa in effetti non è cioccolata ma sono conservanti condensati.\\n\n",
    "            2. Gli dici che non mi fiderei di mangiare cioccolato prodotto con il latte di una mucca viola.\\n\n",
    "            3. \"Le mucche fanno \\'Muuuu\\', ma una fa \\'Mu muuuuu\\'!!\". Ah, no, quello era Fruttolo...\\n\n",
    "        ''')"
   ]
  },
  {
   "cell_type": "code",
   "execution_count": 12,
   "metadata": {
    "collapsed": false
   },
   "outputs": [
    {
     "name": "stdout",
     "output_type": "stream",
     "text": [
      "Fabio Ramponi conferma.\n"
     ]
    }
   ],
   "source": [
    "if bivio2 == \"1\": \n",
    "    print \"Fabio Ramponi conferma.\"\n",
    "elif bivio2 == \"2\":\n",
    "    print \"Fabio Ramponi ti azzanna\"\n",
    "else:\n",
    "    print \"Fabio Ramponi dice di rinchiude in un Bit Coin.\""
   ]
  },
  {
   "cell_type": "code",
   "execution_count": null,
   "metadata": {
    "collapsed": true
   },
   "outputs": [],
   "source": [
    "print \"Fine della storia.\""
   ]
  },
  {
   "cell_type": "markdown",
   "metadata": {},
   "source": [
    "##The end"
   ]
  }
 ],
 "metadata": {
  "kernelspec": {
   "display_name": "Python 2",
   "language": "python",
   "name": "python2"
  },
  "language_info": {
   "codemirror_mode": {
    "name": "ipython",
    "version": 2
   },
   "file_extension": ".py",
   "mimetype": "text/x-python",
   "name": "python",
   "nbconvert_exporter": "python",
   "pygments_lexer": "ipython2",
   "version": "2.7.10"
  }
 },
 "nbformat": 4,
 "nbformat_minor": 0
}
